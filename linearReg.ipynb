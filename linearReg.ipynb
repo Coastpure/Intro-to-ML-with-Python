{
 "cells": [
  {
   "cell_type": "code",
   "execution_count": 1,
   "id": "6ee61ef3-cc68-43ae-9fff-1a8b6bec76b0",
   "metadata": {},
   "outputs": [],
   "source": [
    "import pandas as pd\n",
    "import matplotlib.pyplot as plt "
   ]
  },
  {
   "cell_type": "code",
   "execution_count": 53,
   "id": "c514366c-265a-4878-a798-58cbe979b19e",
   "metadata": {},
   "outputs": [],
   "source": [
    "# video used\n",
    "# https://www.youtube.com/watch?v=VmbA0pi2cRQ&t=27s"
   ]
  },
  {
   "cell_type": "code",
   "execution_count": 45,
   "id": "60246f99-c2dc-41c8-b587-f2ffab30d32b",
   "metadata": {},
   "outputs": [],
   "source": [
    "data = pd.read_csv('nile.csv')"
   ]
  },
  {
   "cell_type": "code",
   "execution_count": 6,
   "id": "33523f27-d5dd-4507-bdd5-221511d36dae",
   "metadata": {},
   "outputs": [
    {
     "name": "stdout",
     "output_type": "stream",
     "text": [
      "    studytime    score\n",
      "0           1   9.9974\n",
      "1           2  10.5556\n",
      "2           3   9.9014\n",
      "3           4  11.4800\n",
      "4           5  12.8460\n",
      "..        ...      ...\n",
      "95         96  50.3060\n",
      "96         97  90.6516\n",
      "97         98  80.3060\n",
      "98         99  97.9230\n",
      "99        100  79.4620\n",
      "\n",
      "[100 rows x 2 columns]\n"
     ]
    }
   ],
   "source": [
    "print(data)"
   ]
  },
  {
   "cell_type": "code",
   "execution_count": 46,
   "id": "f8760295-8a0a-409e-8730-b5e231facb5c",
   "metadata": {},
   "outputs": [
    {
     "data": {
      "image/png": "[encoded data removed]",
      "text/plain": [
       "<Figure size 432x288 with 1 Axes>"
      ]
     },
     "metadata": {
      "needs_background": "light"
     },
     "output_type": "display_data"
    }
   ],
   "source": [
    "plt.scatter(data.studytime, data.score)\n",
    "plt.show()"
   ]
  },
  {
   "cell_type": "code",
   "execution_count": 48,
   "id": "83757b04-9140-4336-9387-aa99da4e2c4d",
   "metadata": {
    "tags": []
   },
   "outputs": [],
   "source": [
    "# def loss_function(m, b, points):\n",
    "#     total_error = 0\n",
    "#     for i in range(len(points)):\n",
    "#         x = points.iloc[i].studytime\n",
    "#         y = points.iloc[i].score\n",
    "#         total_error += (y - (m * x + b)) **2\n",
    "#     total_error / float(len(points))"
   ]
  },
  {
   "cell_type": "code",
   "execution_count": 52,
   "id": "60a88d34-7739-4757-bd0b-a816c1168ed8",
   "metadata": {},
   "outputs": [
    {
     "name": "stdout",
     "output_type": "stream",
     "text": [
      "Epoch: 0\n",
      "Epoch: 50\n",
      "Epoch: 100\n",
      "Epoch: 150\n",
      "Epoch: 200\n",
      "Epoch: 250\n",
      "0.95349606095784 1.005359263086146\n"
     ]
    },
    {
     "data": {
      "image/png": "[encoded data removed]",
      "text/plain": [
       "<Figure size 432x288 with 1 Axes>"
      ]
     },
     "metadata": {
      "needs_background": "light"
     },
     "output_type": "display_data"
    }
   ],
   "source": [
    "def gradient_descent(m_now, b_now, points, L):\n",
    "    m_gradient = 0\n",
    "    b_gradient = 0\n",
    "    \n",
    "    n = len(points)\n",
    "    \n",
    "#     the for loop is the sum symbol\n",
    "    for i in range(n):\n",
    "#    we are putting the -2/n.... formula into python(after partially differentiating)\n",
    "        x = points.iloc[i].studytime\n",
    "        y = points.iloc[i].score\n",
    "        \n",
    "        m_gradient += -(2/n) * x * (y - (m_now * x + b_now))\n",
    "        b_gradient += -(2/n) * (y - (m_now * x * b_now))\n",
    "        \n",
    "#     go to the opposite direction\n",
    "    m = m_now - m_gradient * L\n",
    "    b = b_now - b_gradient * L\n",
    "    return m, b\n",
    "\n",
    "m = 0\n",
    "b = 0\n",
    "L = 0.0001\n",
    "# iterations\n",
    "epochs = 300\n",
    "\n",
    "# to get a better and better m and b \n",
    "for i in range(epochs):\n",
    "    if i % 50 == 0:\n",
    "        print(f\"Epoch: {i}\")\n",
    "    m, b = gradient_descent(m, b, data, L)\n",
    "    \n",
    "print(m, b)\n",
    "\n",
    "plt.scatter(data.studytime, data.score, color=\"black\")\n",
    "plt.plot(list(range(1,100)), [m * x + b for x in range(1, 100)], color = \"red\" )\n",
    "plt.show()"
   ]
  },
  {
   "cell_type": "code",
   "execution_count": null,
   "id": "3221a018-307e-4e87-9166-79ec94cee609",
   "metadata": {},
   "outputs": [],
   "source": []
  }
 ],
 "metadata": {
  "kernelspec": {
   "display_name": "Python 3 (ipykernel)",
   "language": "python",
   "name": "python3"
  },
  "language_info": {
   "codemirror_mode": {
    "name": "ipython",
    "version": 3
   },
   "file_extension": ".py",
   "mimetype": "text/x-python",
   "name": "python",
   "nbconvert_exporter": "python",
   "pygments_lexer": "ipython3",
   "version": "3.9.12"
  }
 },
 "nbformat": 4,
 "nbformat_minor": 5
}
