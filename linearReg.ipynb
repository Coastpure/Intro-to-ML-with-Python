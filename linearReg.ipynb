{
 "cells": [
  {
   "cell_type": "code",
   "execution_count": 1,
   "id": "6ee61ef3-cc68-43ae-9fff-1a8b6bec76b0",
   "metadata": {},
   "outputs": [],
   "source": [
    "import pandas as pd\n",
    "import matplotlib.pyplot as plt "
   ]
  },
  {
   "cell_type": "code",
   "execution_count": 53,
   "id": "c514366c-265a-4878-a798-58cbe979b19e",
   "metadata": {},
   "outputs": [],
   "source": [
    "# video used\n",
    "# https://www.youtube.com/watch?v=VmbA0pi2cRQ&t=27s"
   ]
  },
  {
   "cell_type": "code",
   "execution_count": 45,
   "id": "60246f99-c2dc-41c8-b587-f2ffab30d32b",
   "metadata": {},
   "outputs": [],
   "source": [
    "data = pd.read_csv('data/nile.csv')"
   ]
  },
  {
   "cell_type": "code",
   "execution_count": 6,
   "id": "33523f27-d5dd-4507-bdd5-221511d36dae",
   "metadata": {},
   "outputs": [
    {
     "name": "stdout",
     "output_type": "stream",
     "text": [
      "    studytime    score\n",
      "0           1   9.9974\n",
      "1           2  10.5556\n",
      "2           3   9.9014\n",
      "3           4  11.4800\n",
      "4           5  12.8460\n",
      "..        ...      ...\n",
      "95         96  50.3060\n",
      "96         97  90.6516\n",
      "97         98  80.3060\n",
      "98         99  97.9230\n",
      "99        100  79.4620\n",
      "\n",
      "[100 rows x 2 columns]\n"
     ]
    }
   ],
   "source": [
    "print(data)"
   ]
  },
  {
   "cell_type": "code",
   "execution_count": 46,
   "id": "f8760295-8a0a-409e-8730-b5e231facb5c",
   "metadata": {},
   "outputs": [
    {
     "data": {
      "image/png": "[encoded data removed]",
      "text/plain": [
       "<Figure size 432x288 with 1 Axes>"
      ]
     },
     "metadata": {
      "needs_background": "light"
     },
     "output_type": "display_data"
    }
   ],
   "source": [
    "plt.scatter(data.studytime, data.score)\n",
    "plt.show()"
   ]
  },
  {
   "cell_type": "code",
   "execution_count": 48,
   "id": "83757b04-9140-4336-9387-aa99da4e2c4d",
   "metadata": {
    "tags": []
   },
   "outputs": [],
   "source": [
    "# def loss_function(m, b, points):\n",
    "#     total_error = 0\n",
    "#     for i in range(len(points)):\n",
    "#         x = points.iloc[i].studytime\n",
    "#         y = points.iloc[i].score\n",
    "#         total_error += (y - (m * x + b)) **2\n",
    "#     total_error / float(len(points))"
   ]
  },
  {
   "cell_type": "code",
   "execution_count": 52,
   "id": "60a88d34-7739-4757-bd0b-a816c1168ed8",
   "metadata": {},
   "outputs": [
    {
     "name": "stdout",
     "output_type": "stream",
     "text": [
      "Epoch: 0\n",
      "Epoch: 50\n",
      "Epoch: 100\n",
      "Epoch: 150\n",
      "Epoch: 200\n",
      "Epoch: 250\n",
      "0.95349606095784 1.005359263086146\n"
     ]
    },
    {
     "data": {
      "image/png": "[encoded data removed]",
      "text/plain": [
       "<Figure size 432x288 with 1 Axes>"
      ]
     },
     "metadata": {
      "needs_background": "light"
     },
     "output_type": "display_data"
    }
   ],
   "source": [
    "def gradient_descent(m_now, b_now, points, L):\n",
    "    m_gradient = 0\n",
    "    b_gradient = 0\n",
    "    \n",
    "    n = len(points)\n",
    "    \n",
    "#     the for loop is the sum symbol\n",
    "    for i in range(n):\n",
    "#    we are putting the -2/n.... formula into python(after partially differentiating)\n",
    "        x = points.iloc[i].studytime\n",
    "        y = points.iloc[i].score\n",
    "        \n",
    "        m_gradient += -(2/n) * x * (y - (m_now * x + b_now))\n",
    "        b_gradient += -(2/n) * (y - (m_now * x * b_now))\n",
    "        \n",
    "#     go to the opposite direction\n",
    "    m = m_now - m_gradient * L\n",
    "    b = b_now - b_gradient * L\n",
    "    return m, b\n",
    "\n",
    "m = 0\n",
    "b = 0\n",
    "L = 0.0001\n",
    "# iterations\n",
    "epochs = 300\n",
    "\n",
    "# to get a better and better m and b \n",
    "for i in range(epochs):\n",
    "    if i % 50 == 0:\n",
    "        print(f\"Epoch: {i}\")\n",
    "    m, b = gradient_descent(m, b, data, L)\n",
    "    \n",
    "print(m, b)\n",
    "\n",
    "plt.scatter(data.studytime, data.score, color=\"black\")\n",
    "plt.plot(list(range(1,100)), [m * x + b for x in range(1, 100)], color = \"red\" )\n",
    "plt.show()"
   ]
  },
  {
   "cell_type": "markdown",
   "id": "50384682-357a-488c-94fb-9995b4acc977",
   "metadata": {},
   "source": [
    "<h1><font color=\"yellow\">LINEAR REGRESSION EXAMPLE 2<font></h1>"
   ]
  },
  {
   "cell_type": "code",
   "execution_count": 2,
   "id": "b8fa7ac8-f770-4948-9b12-6fb158f8e906",
   "metadata": {},
   "outputs": [],
   "source": [
    "import numpy as np\n",
    "import matplotlib.pyplot as plt\n",
    "from sklearn.linear_model import LinearRegression"
   ]
  },
  {
   "cell_type": "markdown",
   "id": "39d305cc-8bea-4e48-894d-99403e370928",
   "metadata": {},
   "source": [
    "<h3><font color=\"yellow\">create the Data<font></h3>"
   ]
  },
  {
   "cell_type": "code",
   "execution_count": 19,
   "id": "8f4785d2-e48c-4276-ab77-c135b9e63ac7",
   "metadata": {},
   "outputs": [],
   "source": [
    "time_studied = np.array([20, 50, 32, 65, 23, 43, 10, 5, 22, 35, 29, 5, 56]).reshape(-1,1)\n",
    "scores = np.array([56, 83, 47, 93, 47, 82, 45, 23, 55, 67, 57, 4, 89]).reshape(-1,1)"
   ]
  },
  {
   "cell_type": "markdown",
   "id": "8ae110f9-182a-48a8-add0-9927d26e342f",
   "metadata": {},
   "source": [
    "<h3><font color=\"yellow\">create the model<font></h3>"
   ]
  },
  {
   "cell_type": "code",
   "execution_count": 11,
   "id": "9a2aef35-82cc-4c36-bcec-88b14dfd9c91",
   "metadata": {},
   "outputs": [],
   "source": [
    "model = LinearRegression()"
   ]
  },
  {
   "cell_type": "markdown",
   "id": "17869ca0-3952-4dc6-b80f-01525601e434",
   "metadata": {},
   "source": [
    "<h3><font color=\"yellow\">find the regression line<font></h3>"
   ]
  },
  {
   "cell_type": "code",
   "execution_count": 12,
   "id": "f454a9f6-32a3-46e1-8d35-9e3268f63bfd",
   "metadata": {},
   "outputs": [
    {
     "data": {
      "text/plain": [
       "LinearRegression()"
      ]
     },
     "execution_count": 12,
     "metadata": {},
     "output_type": "execute_result"
    }
   ],
   "source": [
    "model.fit(time_studied, scores)"
   ]
  },
  {
   "cell_type": "markdown",
   "id": "77d138e0-e088-4c0f-8517-cde96db5329f",
   "metadata": {},
   "source": [
    "<h3><font color=\"yellow\">visualize<font></h3>"
   ]
  },
  {
   "cell_type": "markdown",
   "id": "dae8e398-433c-4bda-a168-5e3f7dfab1a6",
   "metadata": {},
   "source": [
    "<p><font color=\"yellow\">without the regression line first<font></p>"
   ]
  },
  {
   "cell_type": "code",
   "execution_count": 20,
   "id": "206005ee-2507-4a64-bbba-bf1940b9f020",
   "metadata": {},
   "outputs": [
    {
     "data": {
      "image/png": "[encoded data removed]",
      "text/plain": [
       "<Figure size 432x288 with 1 Axes>"
      ]
     },
     "metadata": {
      "needs_background": "light"
     },
     "output_type": "display_data"
    }
   ],
   "source": [
    "plt.scatter(time_studied, scores)\n",
    "plt.ylim(0,100)\n",
    "plt.show()"
   ]
  },
  {
   "cell_type": "markdown",
   "id": "1bc20820-db01-4277-bf87-d8dc48ff6404",
   "metadata": {},
   "source": [
    "<p><font color=\"yellow\">now with the regression line<font></p>"
   ]
  },
  {
   "cell_type": "code",
   "execution_count": 21,
   "id": "2cc3b51b-b74c-4ed3-8839-05326550031d",
   "metadata": {},
   "outputs": [
    {
     "data": {
      "image/png": "[encoded data removed]",
      "text/plain": [
       "<Figure size 432x288 with 1 Axes>"
      ]
     },
     "metadata": {
      "needs_background": "light"
     },
     "output_type": "display_data"
    }
   ],
   "source": [
    "plt.scatter(time_studied, scores)\n",
    "plt.plot(np.linspace(0,70,100).reshape(-1,1), model.predict(np.linspace(0,70,100).reshape(-1,1)), 'r')\n",
    "plt.ylim(0,100)\n",
    "plt.show()"
   ]
  },
  {
   "cell_type": "code",
   "execution_count": 17,
   "id": "2c6d4dbb-193e-409d-9607-ac9984cc1b29",
   "metadata": {},
   "outputs": [
    {
     "name": "stdout",
     "output_type": "stream",
     "text": [
      "[[68.22055244]]\n"
     ]
    }
   ],
   "source": [
    "print(model.predict(np.array([56]).reshape(-1,1)))"
   ]
  },
  {
   "cell_type": "markdown",
   "id": "08a6e56f-b2ef-4839-98d9-d3f0a5617294",
   "metadata": {},
   "source": [
    "<p><font color=\"yellow\">Testing<font></p>"
   ]
  },
  {
   "cell_type": "code",
   "execution_count": 42,
   "id": "d62201b2-4594-4a3f-a58c-9aed8bb3380d",
   "metadata": {},
   "outputs": [],
   "source": [
    "from sklearn.model_selection import train_test_split"
   ]
  },
  {
   "cell_type": "code",
   "execution_count": 51,
   "id": "cb34d308-3d6d-4ac5-92bc-e4b6597a4569",
   "metadata": {},
   "outputs": [],
   "source": [
    "time_train, time_test, score_train, score_test= train_test_split(time_studied, scores, test_size=0.3)"
   ]
  },
  {
   "cell_type": "code",
   "execution_count": 52,
   "id": "6e57f87e-a96d-430c-93fa-301d14eceffa",
   "metadata": {},
   "outputs": [
    {
     "data": {
      "text/plain": [
       "LinearRegression()"
      ]
     },
     "execution_count": 52,
     "metadata": {},
     "output_type": "execute_result"
    }
   ],
   "source": [
    "model.fit(time_train, score_train)"
   ]
  },
  {
   "cell_type": "code",
   "execution_count": 53,
   "id": "f634d32e-8b57-4611-af03-1db611ea730f",
   "metadata": {},
   "outputs": [
    {
     "data": {
      "text/plain": [
       "0.780722850667232"
      ]
     },
     "execution_count": 53,
     "metadata": {},
     "output_type": "execute_result"
    }
   ],
   "source": [
    "model.score(time_test, score_test)"
   ]
  },
  {
   "cell_type": "code",
   "execution_count": 54,
   "id": "f360c407-2744-4d85-b89d-2aa3c2a59a3c",
   "metadata": {},
   "outputs": [
    {
     "data": {
      "image/png": "[encoded data removed]",
      "text/plain": [
       "<Figure size 432x288 with 1 Axes>"
      ]
     },
     "metadata": {
      "needs_background": "light"
     },
     "output_type": "display_data"
    }
   ],
   "source": [
    "plt.scatter(time_train, score_train)\n",
    "plt.plot(np.linspace(0,70,100).reshape(-1,1), model.predict(np.linspace(0,70,100).reshape(-1,1)), 'r')\n",
    "plt.show()"
   ]
  },
  {
   "cell_type": "code",
   "execution_count": null,
   "id": "c8b79494-fa75-4e44-8d9d-b7b45fd9ba85",
   "metadata": {},
   "outputs": [],
   "source": []
  }
 ],
 "metadata": {
  "kernelspec": {
   "display_name": "Python 3 (ipykernel)",
   "language": "python",
   "name": "python3"
  },
  "language_info": {
   "codemirror_mode": {
    "name": "ipython",
    "version": 3
   },
   "file_extension": ".py",
   "mimetype": "text/x-python",
   "name": "python",
   "nbconvert_exporter": "python",
   "pygments_lexer": "ipython3",
   "version": "3.9.12"
  }
 },
 "nbformat": 4,
 "nbformat_minor": 5
}
