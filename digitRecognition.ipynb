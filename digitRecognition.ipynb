{
 "cells": [
  {
   "cell_type": "code",
   "execution_count": 2,
   "id": "7ac84b6d-e77f-4822-a441-8a1af1218fb2",
   "metadata": {},
   "outputs": [],
   "source": [
    "import cv2 as cv"
   ]
  },
  {
   "cell_type": "code",
   "execution_count": 3,
   "id": "222f4fe2-1baf-46e8-b167-ed82f496d627",
   "metadata": {},
   "outputs": [],
   "source": [
    "import matplotlib.pyplot as plt"
   ]
  },
  {
   "cell_type": "code",
   "execution_count": 4,
   "id": "6460559a-6ebf-44d2-b73e-af85ea702ea0",
   "metadata": {},
   "outputs": [],
   "source": [
    "import numpy as np"
   ]
  },
  {
   "cell_type": "code",
   "execution_count": 6,
   "id": "c3da27bc-76e1-460e-b03a-d99890d28b56",
   "metadata": {},
   "outputs": [],
   "source": [
    "import tensorflow as tf"
   ]
  },
  {
   "cell_type": "code",
   "execution_count": 8,
   "id": "689aed97-24f8-4bf9-a345-766e80ca7923",
   "metadata": {},
   "outputs": [],
   "source": [
    "mnist = tf.keras.datasets.mnist"
   ]
  },
  {
   "cell_type": "code",
   "execution_count": 9,
   "id": "e039ded7-4b36-49f6-b941-28ad8cb299fb",
   "metadata": {},
   "outputs": [
    {
     "name": "stdout",
     "output_type": "stream",
     "text": [
      "Downloading data from https://storage.googleapis.com/tensorflow/tf-keras-datasets/mnist.npz\n",
      "11490434/11490434 [==============================] - 18s 2us/step\n"
     ]
    }
   ],
   "source": [
    "(x_train, y_train), (x_test, y_test) = mnist.load_data()"
   ]
  },
  {
   "cell_type": "code",
   "execution_count": 12,
   "id": "7a722027-2563-446a-a191-e89de99ac553",
   "metadata": {},
   "outputs": [],
   "source": [
    "# normalize the data, we'll not scale down the y data because the data is basically just 0123456789\n",
    "x_train = tf.keras.utils.normalize(x_train, axis=1)\n",
    "x_test = tf.keras.utils.normalize(x_test, axis=1)"
   ]
  },
  {
   "cell_type": "markdown",
   "id": "49b9038a-b871-4434-9367-785163342829",
   "metadata": {},
   "source": [
    "<h3> <font color= \"yellow\">Buildthe model, take an input layer, 2 hidden layers and 1 output layer</font></h3>"
   ]
  },
  {
   "cell_type": "markdown",
   "id": "8f11b379-bcda-418b-9c4a-16f2d0f2c13d",
   "metadata": {},
   "source": [
    "<p> <font color= \"yellow\"> this is basically just saying that we create an ordinary feed forward neural network (just a basic neural network)</font></p>"
   ]
  },
  {
   "cell_type": "code",
   "execution_count": 44,
   "id": "32833d46-aa4d-4d66-b736-0a4ce5b94226",
   "metadata": {},
   "outputs": [],
   "source": [
    "# define the model, take an input layer, 2 didden layers and 1 output layer\n",
    "model = tf.keras.models.Sequential()"
   ]
  },
  {
   "cell_type": "markdown",
   "id": "4431d361-9368-4e38-a269-8dea21507a42",
   "metadata": {},
   "source": [
    "<p> <font color= \"yellow\"> Now we are going to add some layers</font></p>"
   ]
  },
  {
   "cell_type": "markdown",
   "id": "7f8c3ba9-4a52-4977-b9db-ab6c9e65521c",
   "metadata": {},
   "source": [
    "<p> <font color= \"yellow\"> We use a flatten layer here, we can specify the input shape of the flatten layer to be 28 x 28, so these are all the pixels of each individual image of a handwritten digit and we feed that into the input layer and then this input layer is followed by a dense layer</font></p>"
   ]
  },
  {
   "cell_type": "code",
   "execution_count": 45,
   "id": "f3e47aaf-f3d1-4a2b-9761-fd0a3edcc4a4",
   "metadata": {
    "tags": []
   },
   "outputs": [],
   "source": [
    "model.add(tf.keras.layers.Flatten(input_shape=(28,28)))"
   ]
  },
  {
   "cell_type": "markdown",
   "id": "e12a5b88-6925-4028-9c52-3e1f3e1be1a5",
   "metadata": {},
   "source": [
    "<p> <font color= \"yellow\"> Dense Layer</font></p>"
   ]
  },
  {
   "cell_type": "markdown",
   "id": "f8bd784b-792f-4516-bf3e-8e6241e8756a",
   "metadata": {},
   "source": [
    "<p> <font color= \"yellow\">means that all the neurones are connected to the previous layer and the next layer</font></p>\n",
    "<p> <font color= \"yellow\">specify units, chose the number of neurons you we wanna have, the more the more the complicated the layout will be, then specify an activation function </font></p>"
   ]
  },
  {
   "cell_type": "code",
   "execution_count": 46,
   "id": "302d5e13-470d-46e6-acfb-60780146b57a",
   "metadata": {},
   "outputs": [],
   "source": [
    "model.add(tf.keras.layers.Dense(units=128, activation=tf.nn.relu))"
   ]
  },
  {
   "cell_type": "markdown",
   "id": "2e1306f3-6c63-4c7e-bb2c-d9ef6bb9181e",
   "metadata": {},
   "source": [
    "<p> <font color= \"yellow\">then we basically wanna do the same layer again, wanna have two layers that are exactly the same</font></p>"
   ]
  },
  {
   "cell_type": "code",
   "execution_count": 47,
   "id": "90cc60ec-607c-4b5c-85ab-e8f004e66e98",
   "metadata": {},
   "outputs": [],
   "source": [
    "model.add(tf.keras.layers.Dense(units=128, activation=tf.nn.relu))"
   ]
  },
  {
   "cell_type": "markdown",
   "id": "44a0e494-d68e-4147-884a-79a4dfa190b8",
   "metadata": {},
   "source": [
    "<p> <font color= \"yellow\">and in the end what we wannna have is an output layer which is again a dense layer, it will have 10 units</font></p>\n",
    "<p> <font color= \"yellow\">this activation function here is basically the function that tries to take all the outputs, so basically we have 10 neurons and each neuron has an activation function, how likely it is eg that the digit is 2 or an 8 or a 7, and what softmax does is it adds up or it scales the values down so that they alladd upto 1 so that we get the percentages, the probability of that number being the result the classification </font></p>"
   ]
  },
  {
   "cell_type": "code",
   "execution_count": 48,
   "id": "fe914d6c-dffd-4aee-b454-17573b10b5f2",
   "metadata": {},
   "outputs": [],
   "source": [
    "model.add(tf.keras.layers.Dense(units=10, activation=tf.nn.softmax))"
   ]
  },
  {
   "cell_type": "markdown",
   "id": "eb9caf61-1883-45c1-978b-ff93cef86567",
   "metadata": {},
   "source": [
    "<p> <font color= \"yellow\">So that is how we build the model, we have a flatten layer, 2 dense layers in b2n 2 hidden layers and one dense ouput layer with the softmax function</font></p>"
   ]
  },
  {
   "cell_type": "markdown",
   "id": "dc3f5680-9f30-438f-a50c-da2e4f4d136b",
   "metadata": {},
   "source": [
    "<p> <font color= \"yellow\">now we just need to complie the model so</font></p>"
   ]
  },
  {
   "cell_type": "code",
   "execution_count": 49,
   "id": "07e529c5-1ba3-4acf-9c48-a74571cbe458",
   "metadata": {},
   "outputs": [],
   "source": [
    "model.compile(optimizer='adam', loss='sparse_categorical_crossentropy', metrics=['accuracy'])"
   ]
  },
  {
   "cell_type": "markdown",
   "id": "d59d59af-4ee1-44c6-81c7-e25026030226",
   "metadata": {},
   "source": [
    "<h3> <font color= \"yellow\">now we fit/train the model</font></h3>"
   ]
  },
  {
   "cell_type": "markdown",
   "id": "d13131f9-bf8b-42bd-a67b-196734848d9b",
   "metadata": {},
   "source": [
    "<p> <font color= \"yellow\">specify epochs, basically means how many times is the model going to see the same data over and over again, how many times are we going to repeat the process</font></p>"
   ]
  },
  {
   "cell_type": "code",
   "execution_count": 50,
   "id": "5e3213aa-f711-4b77-86c3-c06183b79445",
   "metadata": {},
   "outputs": [
    {
     "name": "stdout",
     "output_type": "stream",
     "text": [
      "Epoch 1/3\n",
      "1875/1875 [==============================] - 6s 3ms/step - loss: 0.2575 - accuracy: 0.9244\n",
      "Epoch 2/3\n",
      "1875/1875 [==============================] - 6s 3ms/step - loss: 0.1066 - accuracy: 0.9667\n",
      "Epoch 3/3\n",
      "1875/1875 [==============================] - 6s 3ms/step - loss: 0.0720 - accuracy: 0.9774\n"
     ]
    },
    {
     "data": {
      "text/plain": [
       "<keras.callbacks.History at 0x1b715eee190>"
      ]
     },
     "execution_count": 50,
     "metadata": {},
     "output_type": "execute_result"
    }
   ],
   "source": [
    "model.fit(x_train, y_train, epochs=3)"
   ]
  },
  {
   "cell_type": "markdown",
   "id": "d42c3003-e6c9-40c9-a830-1d8ba5366655",
   "metadata": {},
   "source": [
    "<h3> <font color= \"yellow\">Evaluate</font></h3>"
   ]
  },
  {
   "cell_type": "code",
   "execution_count": 51,
   "id": "e9511570-32ed-4fca-99bb-7ffae4a0ca4f",
   "metadata": {},
   "outputs": [
    {
     "name": "stdout",
     "output_type": "stream",
     "text": [
      "313/313 [==============================] - 1s 2ms/step - loss: 0.1055 - accuracy: 0.9681\n"
     ]
    }
   ],
   "source": [
    "loss, accuracy = model.evaluate(x_test, y_test)"
   ]
  },
  {
   "cell_type": "code",
   "execution_count": 52,
   "id": "258e64f6-8eca-4a32-ac4d-db728e0d4929",
   "metadata": {},
   "outputs": [
    {
     "name": "stdout",
     "output_type": "stream",
     "text": [
      "Accuracy: 0.9681000113487244\n",
      "Loss:  0.10553764551877975\n"
     ]
    }
   ],
   "source": [
    "print(f\"Accuracy: {accuracy}\")\n",
    "print(f\"Loss:  {loss}\")"
   ]
  },
  {
   "cell_type": "markdown",
   "id": "bf2f18b5-d6a1-4313-b19d-61d9e51bab9d",
   "metadata": {},
   "source": [
    "<p> <font color= \"yellow\">model.save because after we've trained the model, we're going to scan in our own images and feed them into our own neural network to classify our own hand written digits So instead of trining this thing over and over again we're going to save the result and later on load the result</font></p>"
   ]
  },
  {
   "cell_type": "code",
   "execution_count": 32,
   "id": "adb1dbe9-da40-4112-b387-cd7498292347",
   "metadata": {
    "collapsed": true,
    "jupyter": {
     "outputs_hidden": true
    },
    "tags": []
   },
   "outputs": [
    {
     "name": "stderr",
     "output_type": "stream",
     "text": [
      "WARNING:absl:Found untraced functions such as _update_step_xla while saving (showing 1 of 1). These functions will not be directly callable after loading.\n"
     ]
    },
    {
     "name": "stdout",
     "output_type": "stream",
     "text": [
      "INFO:tensorflow:Assets written to: digits.model\\assets\n"
     ]
    },
    {
     "name": "stderr",
     "output_type": "stream",
     "text": [
      "INFO:tensorflow:Assets written to: digits.model\\assets\n"
     ]
    }
   ],
   "source": [
    "model.save('digits.model')"
   ]
  },
  {
   "cell_type": "markdown",
   "id": "d58ead2d-821a-4720-8fbc-2ccc7e8ed700",
   "metadata": {},
   "source": [
    "<p> <font color= \"yellow\">Read the images in open cv</font></p>"
   ]
  },
  {
   "cell_type": "code",
   "execution_count": null,
   "id": "012308d5-05e4-4b10-a8ad-9b5ed3b21fff",
   "metadata": {},
   "outputs": [
    {
     "name": "stdout",
     "output_type": "stream",
     "text": [
      "1/1 [==============================] - 0s 350ms/step\n",
      "The result is probably: 3\n"
     ]
    },
    {
     "data": {
      "image/png": "[encoded data removed]",
      "text/plain": [
       "<Figure size 432x288 with 1 Axes>"
      ]
     },
     "metadata": {
      "needs_background": "light"
     },
     "output_type": "display_data"
    },
    {
     "name": "stdout",
     "output_type": "stream",
     "text": [
      "1/1 [==============================] - 0s 21ms/step\n",
      "The result is probably: 3\n"
     ]
    },
    {
     "data": {
      "image/png": "[encoded data removed]",
      "text/plain": [
       "<Figure size 432x288 with 1 Axes>"
      ]
     },
     "metadata": {
      "needs_background": "light"
     },
     "output_type": "display_data"
    },
    {
     "name": "stdout",
     "output_type": "stream",
     "text": [
      "1/1 [==============================] - 0s 22ms/step\n",
      "The result is probably: 7\n"
     ]
    },
    {
     "data": {
      "image/png": "[encoded data removed]",
      "text/plain": [
       "<Figure size 432x288 with 1 Axes>"
      ]
     },
     "metadata": {
      "needs_background": "light"
     },
     "output_type": "display_data"
    },
    {
     "name": "stdout",
     "output_type": "stream",
     "text": [
      "1/1 [==============================] - 0s 21ms/step\n",
      "The result is probably: 4\n"
     ]
    },
    {
     "data": {
      "image/png": "[encoded data removed]",
      "text/plain": [
       "<Figure size 432x288 with 1 Axes>"
      ]
     },
     "metadata": {
      "needs_background": "light"
     },
     "output_type": "display_data"
    },
    {
     "name": "stdout",
     "output_type": "stream",
     "text": [
      "1/1 [==============================] - 0s 21ms/step\n"
     ]
    }
   ],
   "source": [
    "for x in range(1,6):\n",
    "    img = cv.imread(f\"drawnDigits/{x}.png\")[:,:,0]\n",
    "    img = np.invert(np.array([img]))\n",
    "    prediction = model.predict(img)\n",
    "    print(f'The result is probably: {np.argmax(prediction)}')\n",
    "    plt.imshow(img[0], cmap=plt.cm.binary)\n",
    "    plt.show()"
   ]
  },
  {
   "cell_type": "code",
   "execution_count": null,
   "id": "bb38ca9f-61e9-4b63-af5f-7667bcf62e75",
   "metadata": {},
   "outputs": [],
   "source": []
  }
 ],
 "metadata": {
  "kernelspec": {
   "display_name": "Python 3 (ipykernel)",
   "language": "python",
   "name": "python3"
  },
  "language_info": {
   "codemirror_mode": {
    "name": "ipython",
    "version": 3
   },
   "file_extension": ".py",
   "mimetype": "text/x-python",
   "name": "python",
   "nbconvert_exporter": "python",
   "pygments_lexer": "ipython3",
   "version": "3.9.16"
  }
 },
 "nbformat": 4,
 "nbformat_minor": 5
}
