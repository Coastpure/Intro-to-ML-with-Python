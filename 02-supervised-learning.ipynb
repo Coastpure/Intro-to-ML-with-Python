{
 "cells": [
  {
   "cell_type": "code",
   "execution_count": 1,
   "id": "660b6e38-6f72-412d-8346-629f3a7fc6b6",
   "metadata": {},
   "outputs": [],
   "source": [
    "import matplotlib.pyplot as plt\n",
    "import numpy as np\n",
    "import pandas as pd\n",
    "import sklearn\n",
    "import mglearn\n",
    "import scipy as sp"
   ]
  },
  {
   "cell_type": "markdown",
   "id": "5a3ab541-ae89-4741-a554-aced9b48e9be",
   "metadata": {},
   "source": [
    "<h1>Classification graph example</h1>"
   ]
  },
  {
   "cell_type": "code",
   "execution_count": 2,
   "id": "2d85b625-5ea3-4d4b-a3e9-f5fac5b04f78",
   "metadata": {},
   "outputs": [
    {
     "name": "stderr",
     "output_type": "stream",
     "text": [
      "C:\\Users\\hp\\anaconda3\\lib\\site-packages\\sklearn\\utils\\deprecation.py:87: FutureWarning: Function make_blobs is deprecated; Please import make_blobs directly from scikit-learn\n",
      "  warnings.warn(msg, category=FutureWarning)\n"
     ]
    },
    {
     "name": "stdout",
     "output_type": "stream",
     "text": [
      "X.shape: (26, 2)\n"
     ]
    },
    {
     "data": {
      "image/png": "[encoded data removed]",
      "text/plain": [
       "<Figure size 432x288 with 1 Axes>"
      ]
     },
     "metadata": {
      "needs_background": "light"
     },
     "output_type": "display_data"
    }
   ],
   "source": [
    "X, y = mglearn.datasets.make_forge()\n",
    "mglearn.discrete_scatter(X[:, 0], X[:, 1], y)\n",
    "plt.legend([\"Class 0\", \"Class 1\"], loc=4)\n",
    "plt.xlabel(\"First feature\")\n",
    "plt.ylabel(\"Second feature\")\n",
    "print(\"X.shape: {}\".format(X.shape))"
   ]
  },
  {
   "cell_type": "markdown",
   "id": "2126df5a-89ac-4b33-a2f9-09f3910d2cf3",
   "metadata": {},
   "source": [
    "<h1>Regression graph example</h1>"
   ]
  },
  {
   "cell_type": "code",
   "execution_count": 3,
   "id": "5abfdd07-fd7e-428a-b4bb-cc87bb86c697",
   "metadata": {},
   "outputs": [
    {
     "data": {
      "text/plain": [
       "Text(0, 0.5, 'Target')"
      ]
     },
     "execution_count": 3,
     "metadata": {},
     "output_type": "execute_result"
    },
    {
     "data": {
      "image/png": "[encoded data removed]",
      "text/plain": [
       "<Figure size 432x288 with 1 Axes>"
      ]
     },
     "metadata": {
      "needs_background": "light"
     },
     "output_type": "display_data"
    }
   ],
   "source": [
    "X, y = mglearn.datasets.make_wave(n_samples=40)\n",
    "plt.plot(X, y, 'o')\n",
    "plt.ylim(-3,3)\n",
    "plt.xlabel(\"Feature\")\n",
    "plt.ylabel(\"Target\")"
   ]
  },
  {
   "cell_type": "markdown",
   "id": "ce25081a-5d8a-4db9-827a-b24902cf4bfd",
   "metadata": {},
   "source": [
    "<h1>Cancer dataset</h1>"
   ]
  },
  {
   "cell_type": "code",
   "execution_count": 12,
   "id": "8745a003-888c-49d1-b97f-12a181cb3357",
   "metadata": {},
   "outputs": [
    {
     "name": "stdout",
     "output_type": "stream",
     "text": [
      "cancer.keys(): \n",
      "dict_keys(['data', 'target', 'frame', 'target_names', 'DESCR', 'feature_names', 'filename', 'data_module'])\n"
     ]
    }
   ],
   "source": [
    "from sklearn.datasets import load_breast_cancer\n",
    "cancer = load_breast_cancer()\n",
    "print(\"cancer.keys(): \\n{}\".format(cancer.keys()))"
   ]
  },
  {
   "cell_type": "code",
   "execution_count": 5,
   "id": "c57fe7b1-0cb5-4636-a805-970b8fedbf4e",
   "metadata": {},
   "outputs": [
    {
     "name": "stdout",
     "output_type": "stream",
     "text": [
      "Shape of cancer data: (569, 30)\n"
     ]
    }
   ],
   "source": [
    "print(\"Shape of cancer data: {}\".format(cancer.data.shape))"
   ]
  },
  {
   "cell_type": "code",
   "execution_count": 6,
   "id": "dd83eaac-80e0-4a35-8876-e3f50c67bb8c",
   "metadata": {},
   "outputs": [
    {
     "name": "stdout",
     "output_type": "stream",
     "text": [
      "Sample counts per class: \n",
      "{'malignant': 212, 'benign': 357}\n"
     ]
    }
   ],
   "source": [
    "print(\"Sample counts per class: \\n{}\".format(\n",
    "        {n: v for n, v in zip(cancer.target_names, np.bincount(cancer.target))}))"
   ]
  },
  {
   "cell_type": "code",
   "execution_count": 7,
   "id": "291757af-0100-4a6d-b4ca-a1ae55192cbf",
   "metadata": {},
   "outputs": [
    {
     "name": "stdout",
     "output_type": "stream",
     "text": [
      "Feature names:\n",
      "['mean radius' 'mean texture' 'mean perimeter' 'mean area'\n",
      " 'mean smoothness' 'mean compactness' 'mean concavity'\n",
      " 'mean concave points' 'mean symmetry' 'mean fractal dimension'\n",
      " 'radius error' 'texture error' 'perimeter error' 'area error'\n",
      " 'smoothness error' 'compactness error' 'concavity error'\n",
      " 'concave points error' 'symmetry error' 'fractal dimension error'\n",
      " 'worst radius' 'worst texture' 'worst perimeter' 'worst area'\n",
      " 'worst smoothness' 'worst compactness' 'worst concavity'\n",
      " 'worst concave points' 'worst symmetry' 'worst fractal dimension']\n"
     ]
    }
   ],
   "source": [
    "print(\"Feature names:\\n{}\".format(cancer.feature_names))"
   ]
  },
  {
   "cell_type": "markdown",
   "id": "5b684dee-c258-470a-ab50-5653b9dad3fb",
   "metadata": {},
   "source": [
    "<h1>Boston Houses Dataset</h1>"
   ]
  },
  {
   "cell_type": "code",
   "execution_count": 14,
   "id": "d46fd45d-8f06-41ee-a736-82ad5b4ed3d5",
   "metadata": {},
   "outputs": [
    {
     "name": "stdout",
     "output_type": "stream",
     "text": [
      "Data shape: (506, 13)\n"
     ]
    }
   ],
   "source": [
    "from sklearn.datasets import load_boston\n",
    "boston = load_boston()\n",
    "print(\"Data shape: {}\".format(boston.data.shape))"
   ]
  },
  {
   "cell_type": "code",
   "execution_count": 9,
   "id": "01add988-62c8-4805-aa14-6bf9b9b79cc6",
   "metadata": {},
   "outputs": [
    {
     "name": "stdout",
     "output_type": "stream",
     "text": [
      "dict_keys(['data', 'target', 'feature_names', 'DESCR', 'filename', 'data_module'])\n"
     ]
    }
   ],
   "source": [
    "print(boston.keys())"
   ]
  },
  {
   "cell_type": "code",
   "execution_count": 10,
   "id": "0f859827-4436-4d33-a830-f9494ae73dae",
   "metadata": {},
   "outputs": [
    {
     "name": "stdout",
     "output_type": "stream",
     "text": [
      "['CRIM' 'ZN' 'INDUS' 'CHAS' 'NOX' 'RM' 'AGE' 'DIS' 'RAD' 'TAX' 'PTRATIO'\n",
      " 'B' 'LSTAT']\n"
     ]
    }
   ],
   "source": [
    "print(boston.feature_names)"
   ]
  },
  {
   "cell_type": "markdown",
   "id": "25c010e8-11da-47e4-b1cc-cd79af087886",
   "metadata": {},
   "source": [
    "<h3>Extend features in the dataset</h3>\n",
    "<p>Before, features were 13, now they have been increased to 105</p>\n",
    "<p>The resulting 104 features are the 13 original features together with the 91 possible\n",
    "combinations of two features within those 13</p>"
   ]
  },
  {
   "cell_type": "code",
   "execution_count": 11,
   "id": "314d3de7-7daf-4c50-88c0-c4b85f84bc66",
   "metadata": {},
   "outputs": [
    {
     "name": "stdout",
     "output_type": "stream",
     "text": [
      "X.shape: (506, 104)\n"
     ]
    }
   ],
   "source": [
    "X, y = mglearn.datasets.load_extended_boston()\n",
    "print(\"X.shape: {}\".format(X.shape))"
   ]
  },
  {
   "cell_type": "code",
   "execution_count": 16,
   "id": "eab87299-71c9-4c9a-8148-26eb5c605c0e",
   "metadata": {},
   "outputs": [
    {
     "name": "stderr",
     "output_type": "stream",
     "text": [
      "C:\\Users\\hp\\anaconda3\\lib\\site-packages\\sklearn\\utils\\deprecation.py:87: FutureWarning: Function make_blobs is deprecated; Please import make_blobs directly from scikit-learn\n",
      "  warnings.warn(msg, category=FutureWarning)\n"
     ]
    },
    {
     "data": {
      "image/png": "[encoded data removed]",
      "text/plain": [
       "<Figure size 432x288 with 1 Axes>"
      ]
     },
     "metadata": {
      "needs_background": "light"
     },
     "output_type": "display_data"
    }
   ],
   "source": [
    "mglearn.plots.plot_knn_classification(n_neighbors=1)"
   ]
  },
  {
   "cell_type": "code",
   "execution_count": 18,
   "id": "87169db0-d3f8-476e-9675-00c648365d49",
   "metadata": {},
   "outputs": [
    {
     "name": "stderr",
     "output_type": "stream",
     "text": [
      "C:\\Users\\hp\\anaconda3\\lib\\site-packages\\sklearn\\utils\\deprecation.py:87: FutureWarning: Function make_blobs is deprecated; Please import make_blobs directly from scikit-learn\n",
      "  warnings.warn(msg, category=FutureWarning)\n"
     ]
    },
    {
     "data": {
      "image/png": "[encoded data removed]",
      "text/plain": [
       "<Figure size 432x288 with 1 Axes>"
      ]
     },
     "metadata": {
      "needs_background": "light"
     },
     "output_type": "display_data"
    }
   ],
   "source": [
    "mglearn.plots.plot_knn_classification(n_neighbors=3)"
   ]
  },
  {
   "cell_type": "markdown",
   "id": "6dcb4d87-eb01-4968-ae8d-a6525f49c193",
   "metadata": {},
   "source": [
    "<h1>how we can apply the k-nearest neighbors algorithm using scikit\u0002learn.</h1>"
   ]
  },
  {
   "cell_type": "code",
   "execution_count": 6,
   "id": "a41eb6f0-7aad-4006-a324-5793cb258d29",
   "metadata": {},
   "outputs": [
    {
     "name": "stderr",
     "output_type": "stream",
     "text": [
      "C:\\Users\\hp\\anaconda3\\lib\\site-packages\\sklearn\\utils\\deprecation.py:87: FutureWarning: Function make_blobs is deprecated; Please import make_blobs directly from scikit-learn\n",
      "  warnings.warn(msg, category=FutureWarning)\n"
     ]
    }
   ],
   "source": [
    "from sklearn.model_selection import train_test_split\n",
    "X, y = mglearn.datasets.make_forge()\n",
    "X_train, X_test, y_train, y_test = train_test_split(X, y, random_state=0)"
   ]
  },
  {
   "cell_type": "markdown",
   "id": "a062459c-8843-4a3a-a2c7-eb98d8c444f3",
   "metadata": {},
   "source": [
    "<p><font color=\"yellow\">Next, we import and instantiate the class. This is when we can set parameters, like the\n",
    "number of neighbors to use. Here, we set it to 3:<font></p>"
   ]
  },
  {
   "cell_type": "code",
   "execution_count": 22,
   "id": "9077e389-3ad2-4b02-9467-771439e668a4",
   "metadata": {},
   "outputs": [],
   "source": [
    "from sklearn.neighbors import KNeighborsClassifier\n",
    "clf = KNeighborsClassifier(n_neighbors=3)"
   ]
  },
  {
   "cell_type": "markdown",
   "id": "c50a94a2-4b2a-4b57-886b-c7a681bafaef",
   "metadata": {},
   "source": [
    "<p><font color=\"yellow\">Now, we fit the classifier using the training set.<font></p>"
   ]
  },
  {
   "cell_type": "code",
   "execution_count": 24,
   "id": "02db4593-943f-46e3-867e-89108b878af2",
   "metadata": {},
   "outputs": [
    {
     "data": {
      "text/plain": [
       "KNeighborsClassifier(n_neighbors=3)"
      ]
     },
     "execution_count": 24,
     "metadata": {},
     "output_type": "execute_result"
    }
   ],
   "source": [
    "clf.fit(X_train, y_train)"
   ]
  },
  {
   "cell_type": "markdown",
   "id": "b7b2039c-c3b7-4f9e-92e8-8d118590db79",
   "metadata": {},
   "source": [
    "<p><font color=\"yellow\">To make predictions on the test data, we call the predict method.<font></p>"
   ]
  },
  {
   "cell_type": "code",
   "execution_count": 25,
   "id": "aaeb7f53-c605-40f7-8a39-9293980d9a75",
   "metadata": {},
   "outputs": [
    {
     "name": "stdout",
     "output_type": "stream",
     "text": [
      "Test set predictions: [1 0 1 0 1 0 0]\n"
     ]
    }
   ],
   "source": [
    "print(\"Test set predictions: {}\".format(clf.predict(X_test)))"
   ]
  },
  {
   "cell_type": "markdown",
   "id": "0745a88f-a002-4b22-a7d0-4d0bcb695698",
   "metadata": {},
   "source": [
    "<p><font color=\"yellow\">To evaluate how well our model generalizes, we can call the score method with the\n",
    "test data together with the test labels<font></p>"
   ]
  },
  {
   "cell_type": "code",
   "execution_count": 26,
   "id": "ba7a04ef-10fd-44e8-89ff-6a55276db315",
   "metadata": {},
   "outputs": [
    {
     "name": "stdout",
     "output_type": "stream",
     "text": [
      "Test set accuracy: 0.86\n"
     ]
    }
   ],
   "source": [
    "print(\"Test set accuracy: {:.2f}\".format(clf.score(X_test, y_test)))"
   ]
  },
  {
   "cell_type": "code",
   "execution_count": 27,
   "id": "5aa2585b-c5c7-41df-9f59-85052efa4e73",
   "metadata": {},
   "outputs": [],
   "source": [
    "%matplotlib inline"
   ]
  },
  {
   "cell_type": "markdown",
   "id": "25df9c5f-126a-4e49-81b2-7e86dee72074",
   "metadata": {},
   "source": [
    "<h1><font color=\"yellow\">Analyzing KNeighborsClassifier<font></h1>"
   ]
  },
  {
   "cell_type": "code",
   "execution_count": 28,
   "id": "04c0ff58-0bd4-4274-9c7d-2a4e42fcf48e",
   "metadata": {},
   "outputs": [
    {
     "data": {
      "text/plain": [
       "<matplotlib.legend.Legend at 0x202687fb850>"
      ]
     },
     "execution_count": 28,
     "metadata": {},
     "output_type": "execute_result"
    },
    {
     "data": {
      "image/png": "[encoded data removed]",
      "text/plain": [
       "<Figure size 720x216 with 3 Axes>"
      ]
     },
     "metadata": {},
     "output_type": "display_data"
    }
   ],
   "source": [
    "fig, axes = plt.subplots(1, 3, figsize=(10, 3))\n",
    "for n_neighbors, ax in zip([1, 3, 9], axes):\n",
    " # the fit method returns the object self, so we can instantiate\n",
    " # and fit in one line\n",
    " clf = KNeighborsClassifier(n_neighbors=n_neighbors).fit(X, y)\n",
    " mglearn.plots.plot_2d_separator(clf, X, fill=True, eps=0.5, ax=ax, alpha=.4)\n",
    " mglearn.discrete_scatter(X[:, 0], X[:, 1], y, ax=ax)\n",
    " ax.set_title(\"{} neighbor(s)\".format(n_neighbors))\n",
    " ax.set_xlabel(\"feature 0\")\n",
    " ax.set_ylabel(\"feature 1\")\n",
    "axes[0].legend(loc=3)\n"
   ]
  },
  {
   "cell_type": "code",
   "execution_count": 29,
   "id": "94a5203e-6709-48e5-aaef-d8f427b1a9b9",
   "metadata": {},
   "outputs": [
    {
     "data": {
      "text/plain": [
       "<matplotlib.legend.Legend at 0x20268873490>"
      ]
     },
     "execution_count": 29,
     "metadata": {},
     "output_type": "execute_result"
    },
    {
     "data": {
      "image/png": "[encoded data removed]",
      "text/plain": [
       "<Figure size 432x288 with 1 Axes>"
      ]
     },
     "metadata": {
      "needs_background": "light"
     },
     "output_type": "display_data"
    }
   ],
   "source": [
    "from sklearn.datasets import load_breast_cancer\n",
    "cancer = load_breast_cancer()\n",
    "X_train, X_test, y_train, y_test = train_test_split(\n",
    " cancer.data, cancer.target, stratify=cancer.target, random_state=66)\n",
    "training_accuracy = []\n",
    "test_accuracy = []\n",
    "# try n_neighbors from 1 to 10\n",
    "neighbors_settings = range(1, 11)\n",
    "for n_neighbors in neighbors_settings:\n",
    " # build the model\n",
    " clf = KNeighborsClassifier(n_neighbors=n_neighbors)\n",
    " clf.fit(X_train, y_train)\n",
    " # record training set accuracy\n",
    " training_accuracy.append(clf.score(X_train, y_train))\n",
    " # record generalization accuracy\n",
    " test_accuracy.append(clf.score(X_test, y_test))\n",
    "plt.plot(neighbors_settings, training_accuracy, label=\"training accuracy\")\n",
    "plt.plot(neighbors_settings, test_accuracy, label=\"test accuracy\")\n",
    "plt.ylabel(\"Accuracy\")\n",
    "plt.xlabel(\"n_neighbors\")\n",
    "plt.legend()"
   ]
  },
  {
   "cell_type": "markdown",
   "id": "70a2a8da-129a-486c-8033-5dcca99f0144",
   "metadata": {},
   "source": [
    "<h1><font color=\"yellow\">K-NN Regression<font></h1>"
   ]
  },
  {
   "cell_type": "code",
   "execution_count": 32,
   "id": "dfd703be-b10b-446d-8ded-b928f8c176e9",
   "metadata": {},
   "outputs": [
    {
     "data": {
      "image/png": "[encoded data removed]",
      "text/plain": [
       "<Figure size 720x432 with 1 Axes>"
      ]
     },
     "metadata": {
      "needs_background": "light"
     },
     "output_type": "display_data"
    }
   ],
   "source": [
    "mglearn.plots.plot_knn_regression(n_neighbors=1)"
   ]
  },
  {
   "cell_type": "code",
   "execution_count": null,
   "id": "53812178-81f7-4bab-8860-7e9883d36b40",
   "metadata": {},
   "outputs": [
    {
     "data": {
      "image/png": "[encoded data removed]",
      "text/plain": [
       "<Figure size 720x432 with 1 Axes>"
      ]
     },
     "metadata": {
      "needs_background": "light"
     },
     "output_type": "display_data"
    }
   ],
   "source": [
    "mglearn.plots.plot_knn_regression(n_neighbors=3)"
   ]
  },
  {
   "cell_type": "markdown",
   "id": "2e9f8882-9d98-4118-bfb4-c1166faf5a73",
   "metadata": {},
   "source": [
    "<p><font color=\"yellow\"> k-nearest neighbors algorithm for regression is implementation<font></p>"
   ]
  },
  {
   "cell_type": "code",
   "execution_count": 34,
   "id": "9d48f280-d9f5-46a9-af85-c7bcbe56dc19",
   "metadata": {},
   "outputs": [
    {
     "data": {
      "text/plain": [
       "KNeighborsRegressor(n_neighbors=3)"
      ]
     },
     "execution_count": 34,
     "metadata": {},
     "output_type": "execute_result"
    }
   ],
   "source": [
    "from sklearn.neighbors import KNeighborsRegressor\n",
    "X, y = mglearn.datasets.make_wave(n_samples=40)\n",
    "# split the wave dataset into a training and a test set\n",
    "X_train, X_test, y_train, y_test = train_test_split(X, y, random_state=0)\n",
    "# instantiate the model and set the number of neighbors to consider to 3\n",
    "reg = KNeighborsRegressor(n_neighbors=3)\n",
    "# fit the model using the training data and training targets\n",
    "reg.fit(X_train, y_train)"
   ]
  },
  {
   "cell_type": "code",
   "execution_count": 36,
   "id": "2a5ca50c-2f14-427e-8622-ceda65d54c99",
   "metadata": {},
   "outputs": [
    {
     "name": "stdout",
     "output_type": "stream",
     "text": [
      "Test set predictions:\n",
      "[-0.05396539  0.35686046  1.13671923 -1.89415682 -1.13881398 -1.63113382\n",
      "  0.35686046  0.91241374 -0.44680446 -1.13881398]\n"
     ]
    }
   ],
   "source": [
    "print(\"Test set predictions:\\n{}\".format(reg.predict(X_test)))\n"
   ]
  },
  {
   "cell_type": "markdown",
   "id": "574038be-f214-45fa-8b09-6199e26bf0b3",
   "metadata": {},
   "source": [
    "<p><font color=\"yellow\"> We can also evaluate the model using the score method, which for regressors returns\n",
    "the R^2 score.<font></p>"
   ]
  },
  {
   "cell_type": "code",
   "execution_count": 38,
   "id": "2f3fbe12-057a-48d0-b258-5e9231b27c86",
   "metadata": {},
   "outputs": [
    {
     "name": "stdout",
     "output_type": "stream",
     "text": [
      "Test set R^2: 0.83\n"
     ]
    }
   ],
   "source": [
    "print(\"Test set R^2: {:.2f}\".format(reg.score(X_test, y_test)))"
   ]
  },
  {
   "cell_type": "markdown",
   "id": "6262bfa9-5dbe-4cf6-930f-a4b2479174d6",
   "metadata": {},
   "source": [
    "<h1><font color=\"yellow\">Analyzing KNeighborsRegressor<font></h1>"
   ]
  },
  {
   "cell_type": "code",
   "execution_count": 40,
   "id": "303dedea-f9de-45bb-ac5a-7d5254323dd3",
   "metadata": {},
   "outputs": [
    {
     "data": {
      "text/plain": [
       "<matplotlib.legend.Legend at 0x20266ea8490>"
      ]
     },
     "execution_count": 40,
     "metadata": {},
     "output_type": "execute_result"
    },
    {
     "data": {
      "image/png": "[encoded data removed]",
      "text/plain": [
       "<Figure size 1080x288 with 3 Axes>"
      ]
     },
     "metadata": {
      "needs_background": "light"
     },
     "output_type": "display_data"
    }
   ],
   "source": [
    "fig, axes = plt.subplots(1, 3, figsize=(15, 4))\n",
    "# create 1,000 data points, evenly spaced between -3 and 3\n",
    "line = np.linspace(-3, 3, 1000).reshape(-1, 1)\n",
    "for n_neighbors, ax in zip([1, 3, 9], axes):\n",
    " # make predictions using 1, 3, or 9 neighbors\n",
    " reg = KNeighborsRegressor(n_neighbors=n_neighbors)\n",
    " reg.fit(X_train, y_train)\n",
    " ax.plot(line, reg.predict(line))\n",
    " ax.plot(X_train, y_train, '^', c=mglearn.cm2(0), markersize=8)\n",
    " ax.plot(X_test, y_test, 'v', c=mglearn.cm2(1), markersize=8)\n",
    " ax.set_title(\n",
    " \"{} neighbor(s)\\n train score: {:.2f} test score: {:.2f}\".format(\n",
    " n_neighbors, reg.score(X_train, y_train),\n",
    " reg.score(X_test, y_test)))\n",
    " ax.set_xlabel(\"Feature\")\n",
    " ax.set_ylabel(\"Target\")\n",
    "axes[0].legend([\"Model predictions\", \"Training data/target\",\n",
    " \"Test data/target\"], loc=\"best\")"
   ]
  },
  {
   "cell_type": "markdown",
   "id": "4e0c9adb-7653-4707-aae6-29ed81b46e02",
   "metadata": {
    "tags": []
   },
   "source": [
    "<h1><font color=\"yellow\">LINEAR MODELS<font></h1>"
   ]
  },
  {
   "cell_type": "markdown",
   "id": "881bd06d-4711-4c56-a8d9-b0bb13ac73cf",
   "metadata": {},
   "source": [
    "<h2><font color=\"yellow\">Linear Regression<font></h2>"
   ]
  },
  {
   "cell_type": "code",
   "execution_count": 2,
   "id": "6db191df-9118-4449-a4ba-12056b612b9f",
   "metadata": {},
   "outputs": [
    {
     "name": "stdout",
     "output_type": "stream",
     "text": [
      "w[0]: 0.393906  b: -0.031804\n"
     ]
    },
    {
     "data": {
      "image/png": "[encoded data removed]",
      "text/plain": [
       "<Figure size 576x576 with 1 Axes>"
      ]
     },
     "metadata": {
      "needs_background": "light"
     },
     "output_type": "display_data"
    }
   ],
   "source": [
    "mglearn.plots.plot_linear_regression_wave()"
   ]
  },
  {
   "cell_type": "code",
   "execution_count": 7,
   "id": "ce94e94f-c145-4fe2-bc7a-1ae2b09e16da",
   "metadata": {},
   "outputs": [],
   "source": [
    "from sklearn.linear_model import LinearRegression\n",
    "X, y = mglearn.datasets.make_wave(n_samples=60)\n",
    "X_train, X_test, y_train, y_test = train_test_split(X, y, random_state=42)\n",
    "\n",
    "lr = LinearRegression().fit(X_train, y_train)"
   ]
  },
  {
   "cell_type": "code",
   "execution_count": 12,
   "id": "04fc74cf-ad2d-4fa4-97e0-06abb447cebd",
   "metadata": {},
   "outputs": [
    {
     "name": "stdout",
     "output_type": "stream",
     "text": [
      "lr.coef_: [0.39390555]\n",
      "lr.intercept_: -0.031804343026759746\n"
     ]
    }
   ],
   "source": [
    "print(\"lr.coef_: {}\".format(lr.coef_))\n",
    "print(\"lr.intercept_: {}\".format(lr.intercept_))"
   ]
  },
  {
   "cell_type": "code",
   "execution_count": 13,
   "id": "6e1d6506-be4d-49bf-be8b-7c763b716a02",
   "metadata": {},
   "outputs": [
    {
     "name": "stdout",
     "output_type": "stream",
     "text": [
      "Training set score: 0.67\n",
      "Test set score: 0.66\n"
     ]
    }
   ],
   "source": [
    "print(\"Training set score: {:.2f}\".format(lr.score(X_train, y_train)))\n",
    "print(\"Test set score: {:.2f}\".format(lr.score(X_test, y_test)))"
   ]
  },
  {
   "cell_type": "markdown",
   "id": "31caf82b-52fc-434a-a448-8fc8a02d7229",
   "metadata": {},
   "source": [
    "<p><font color=\"yellow\"> Linear regression on bigger data (boston housing)<font></p>"
   ]
  },
  {
   "cell_type": "markdown",
   "id": "88f07993-ba90-4a9d-b6cd-3fe4a6ea2534",
   "metadata": {},
   "source": [
    "<p><font color=\"yellow\">First, we load\n",
    "the dataset and split it into a training and a test set. Then we build the linear regression model <font></p>"
   ]
  },
  {
   "cell_type": "code",
   "execution_count": 28,
   "id": "a918bdf0-4b84-4b5a-9adf-425a505a3699",
   "metadata": {
    "collapsed": true,
    "jupyter": {
     "outputs_hidden": true
    },
    "tags": []
   },
   "outputs": [
    {
     "name": "stderr",
     "output_type": "stream",
     "text": [
      "C:\\Users\\hp\\anaconda3\\lib\\site-packages\\sklearn\\utils\\deprecation.py:87: FutureWarning: Function load_boston is deprecated; `load_boston` is deprecated in 1.0 and will be removed in 1.2.\n",
      "\n",
      "    The Boston housing prices dataset has an ethical problem. You can refer to\n",
      "    the documentation of this function for further details.\n",
      "\n",
      "    The scikit-learn maintainers therefore strongly discourage the use of this\n",
      "    dataset unless the purpose of the code is to study and educate about\n",
      "    ethical issues in data science and machine learning.\n",
      "\n",
      "    In this special case, you can fetch the dataset from the original\n",
      "    source::\n",
      "\n",
      "        import pandas as pd\n",
      "        import numpy as np\n",
      "\n",
      "\n",
      "        data_url = \"http://lib.stat.cmu.edu/datasets/boston\"\n",
      "        raw_df = pd.read_csv(data_url, sep=\"\\s+\", skiprows=22, header=None)\n",
      "        data = np.hstack([raw_df.values[::2, :], raw_df.values[1::2, :2]])\n",
      "        target = raw_df.values[1::2, 2]\n",
      "\n",
      "    Alternative datasets include the California housing dataset (i.e.\n",
      "    :func:`~sklearn.datasets.fetch_california_housing`) and the Ames housing\n",
      "    dataset. You can load the datasets as follows::\n",
      "\n",
      "        from sklearn.datasets import fetch_california_housing\n",
      "        housing = fetch_california_housing()\n",
      "\n",
      "    for the California housing dataset and::\n",
      "\n",
      "        from sklearn.datasets import fetch_openml\n",
      "        housing = fetch_openml(name=\"house_prices\", as_frame=True)\n",
      "\n",
      "    for the Ames housing dataset.\n",
      "    \n",
      "  warnings.warn(msg, category=FutureWarning)\n"
     ]
    }
   ],
   "source": [
    "X, y = mglearn.datasets.load_extended_boston()\n",
    "\n",
    "X_train, X_test, y_train, y_test = train_test_split(X, y, random_state=0)\n",
    "model = LinearRegression()\n",
    "lr = model.fit(X_train, y_train)"
   ]
  },
  {
   "cell_type": "code",
   "execution_count": 29,
   "id": "c67e5bbd-0256-4534-bc3b-40e5511d6b0a",
   "metadata": {},
   "outputs": [
    {
     "name": "stdout",
     "output_type": "stream",
     "text": [
      "Training set score: 0.95\n",
      "Test set score: 0.61\n"
     ]
    }
   ],
   "source": [
    "print(\"Training set score: {:.2f}\".format(lr.score(X_train, y_train)))\n",
    "print(\"Test set score: {:.2f}\".format(lr.score(X_test, y_test)))"
   ]
  },
  {
   "cell_type": "markdown",
   "id": "3fdf1505-c1f5-48b9-8684-5bf6bd1eb84c",
   "metadata": {},
   "source": [
    "<h2><font color=\"yellow\">Ridge Regression<font></h2>"
   ]
  },
  {
   "cell_type": "code",
   "execution_count": 30,
   "id": "72c19bf3-4400-47f0-a611-fa610e4ddbcb",
   "metadata": {},
   "outputs": [],
   "source": [
    "from sklearn.linear_model import Ridge"
   ]
  },
  {
   "cell_type": "code",
   "execution_count": 31,
   "id": "6bd85e20-8ddd-4527-a718-6768f68495b4",
   "metadata": {},
   "outputs": [],
   "source": [
    "ridge = Ridge().fit(X_train, y_train)"
   ]
  },
  {
   "cell_type": "code",
   "execution_count": 32,
   "id": "6ce6cb54-3e8c-40cd-8c4b-0343afb3d7fc",
   "metadata": {},
   "outputs": [
    {
     "name": "stdout",
     "output_type": "stream",
     "text": [
      "Training set score: 0.89\n",
      "Test set score: 0.75\n"
     ]
    }
   ],
   "source": [
    "print(\"Training set score: {:.2f}\".format(ridge.score(X_train, y_train)))\n",
    "print(\"Test set score: {:.2f}\".format(ridge.score(X_test, y_test)))"
   ]
  },
  {
   "cell_type": "markdown",
   "id": "56795a35-5276-4fc8-a5f4-d040ce664ede",
   "metadata": {},
   "source": [
    "<p><font color=\"yellow\">As you can see, the training set score of Ridge is lower than for LinearRegression,\n",
    "while the test set score is higher.<font></p>"
   ]
  },
  {
   "cell_type": "code",
   "execution_count": 33,
   "id": "d71081e3-a538-4ad2-8845-8e031d790cff",
   "metadata": {},
   "outputs": [],
   "source": [
    "ridge10 = Ridge(alpha = 10).fit(X_train, y_train)"
   ]
  },
  {
   "cell_type": "code",
   "execution_count": 35,
   "id": "640c3cde-ea75-4122-ba7b-ef19d8c239ae",
   "metadata": {},
   "outputs": [
    {
     "name": "stdout",
     "output_type": "stream",
     "text": [
      "Training set score: 0.79\n",
      "Test set score: 0.64\n"
     ]
    }
   ],
   "source": [
    "print(\"Training set score: {:.2f}\".format(ridge10.score(X_train, y_train)))\n",
    "print(\"Test set score: {:.2f}\".format(ridge10.score(X_test, y_test)))"
   ]
  },
  {
   "cell_type": "markdown",
   "id": "48030bed-c43e-467d-8f8b-7bffdd929036",
   "metadata": {},
   "source": [
    "<p><font color=\"yellow\">Increasing alpha forces coefficients to move more toward zero, which decreases\n",
    "training set performance but might help generalization<font></p>"
   ]
  },
  {
   "cell_type": "code",
   "execution_count": 43,
   "id": "46803528-4063-4b56-bc4c-cdc81feed39a",
   "metadata": {},
   "outputs": [],
   "source": [
    "ridge01 = Ridge(alpha=0.1).fit(X_train, y_train)"
   ]
  },
  {
   "cell_type": "code",
   "execution_count": 44,
   "id": "a8e2993e-e953-4971-823f-4920e15940e0",
   "metadata": {},
   "outputs": [
    {
     "name": "stdout",
     "output_type": "stream",
     "text": [
      "Training set score: 0.93\n",
      "Test set score: 0.77\n"
     ]
    }
   ],
   "source": [
    "\n",
    "print(\"Training set score: {:.2f}\".format(ridge01.score(X_train, y_train)))\n",
    "print(\"Test set score: {:.2f}\".format(ridge01.score(X_test, y_test)))"
   ]
  },
  {
   "cell_type": "markdown",
   "id": "40ee22fc-181a-4a35-8a01-92334290f3a0",
   "metadata": {},
   "source": [
    "<p><font color=\"yellow\">For very small values of alpha, coefficients are barely restricted at all,\n",
    "and we end up with a model that resembles LinearRegression:<font></p>"
   ]
  },
  {
   "cell_type": "code",
   "execution_count": null,
   "id": "3073b1e7-d485-46f3-bf04-c7ec5dbb44ac",
   "metadata": {},
   "outputs": [],
   "source": []
  }
 ],
 "metadata": {
  "kernelspec": {
   "display_name": "Python 3 (ipykernel)",
   "language": "python",
   "name": "python3"
  },
  "language_info": {
   "codemirror_mode": {
    "name": "ipython",
    "version": 3
   },
   "file_extension": ".py",
   "mimetype": "text/x-python",
   "name": "python",
   "nbconvert_exporter": "python",
   "pygments_lexer": "ipython3",
   "version": "3.9.12"
  }
 },
 "nbformat": 4,
 "nbformat_minor": 5
}
