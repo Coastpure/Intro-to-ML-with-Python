{
 "cells": [
  {
   "cell_type": "code",
   "execution_count": 1,
   "id": "10fce817-34fd-47ec-b59c-5ab3bd4569b5",
   "metadata": {},
   "outputs": [],
   "source": [
    "from sklearn.datasets import load_breast_cancer\n",
    "from sklearn.model_selection import train_test_split\n",
    "from sklearn.svm import SVC"
   ]
  },
  {
   "cell_type": "code",
   "execution_count": 2,
   "id": "5ca6664e-aac6-4b47-b115-249d67913373",
   "metadata": {},
   "outputs": [],
   "source": [
    "from sklearn.tree import DecisionTreeClassifier"
   ]
  },
  {
   "cell_type": "code",
   "execution_count": 2,
   "id": "00b8a3cf-3619-42dc-a7aa-40b27a5cf82e",
   "metadata": {},
   "outputs": [],
   "source": [
    "# we use knn for comparison\n",
    "from sklearn.neighbors import KNeighborsClassifier"
   ]
  },
  {
   "cell_type": "code",
   "execution_count": 3,
   "id": "569d8c3a-8dc5-487c-a756-6af67fc7f884",
   "metadata": {},
   "outputs": [],
   "source": [
    "data = load_breast_cancer()"
   ]
  },
  {
   "cell_type": "code",
   "execution_count": 4,
   "id": "ade575d4-23ac-4d27-8909-6eac828f9652",
   "metadata": {},
   "outputs": [],
   "source": [
    "X = data.data\n",
    "Y = data.target"
   ]
  },
  {
   "cell_type": "code",
   "execution_count": 15,
   "id": "f0576a03-be60-4c5a-aaac-4d0a1c4af3b6",
   "metadata": {},
   "outputs": [],
   "source": [
    "x_train, x_test, y_train, y_test = train_test_split(X, Y, test_size=0.2)"
   ]
  },
  {
   "cell_type": "markdown",
   "id": "2675fc56-7609-459a-9f46-e99c9ae5e30f",
   "metadata": {},
   "source": [
    "<h2># define a classifier, we choose an svc classifier\n",
    "# kernel function to add an additional dimention\n",
    "# C is soft margin (allow some misclassification), allow a soft margin of 3</h2>"
   ]
  },
  {
   "cell_type": "code",
   "execution_count": 20,
   "id": "15f77460-6bfa-40e6-adfc-e4a653fc2c01",
   "metadata": {},
   "outputs": [],
   "source": [
    "clf = SVC(kernel='linear', C=3 )"
   ]
  },
  {
   "cell_type": "markdown",
   "id": "5d0441da-2ec1-4283-aca2-584a3d1e21d4",
   "metadata": {},
   "source": [
    "<h3># train the model</h3>"
   ]
  },
  {
   "cell_type": "code",
   "execution_count": 9,
   "id": "3f353d14-4c91-466e-854b-7e0283e56df8",
   "metadata": {},
   "outputs": [
    {
     "data": {
      "text/plain": [
       "SVC(C=3, kernel='linear')"
      ]
     },
     "execution_count": 21,
     "metadata": {},
     "output_type": "execute_result"
    }
   ],
   "source": [
    "clf.fit(x_train, y_train)"
   ]
  },
  {
   "cell_type": "markdown",
   "id": "3c94ec56-08cf-4179-9b12-fb9aad1373b6",
   "metadata": {},
   "source": [
    "<h3>Compare with KNN</h3>"
   ]
  },
  {
   "cell_type": "code",
   "execution_count": 11,
   "id": "8a7912df-fda6-4828-9fc5-db57c7f2cb87",
   "metadata": {},
   "outputs": [],
   "source": [
    "clf2 = KNeighborsClassifier(n_neighbors=3)"
   ]
  },
  {
   "cell_type": "code",
   "execution_count": 12,
   "id": "e0b4ce28-e0ff-4c3c-8a9c-b4d1b33ece68",
   "metadata": {},
   "outputs": [
    {
     "data": {
      "text/plain": [
       "KNeighborsClassifier(n_neighbors=3)"
      ]
     },
     "execution_count": 12,
     "metadata": {},
     "output_type": "execute_result"
    }
   ],
   "source": [
    "clf2.fit(x_train, y_train)"
   ]
  },
  {
   "cell_type": "code",
   "execution_count": 18,
   "id": "5badc469-9399-445d-b5e3-82943581fe4a",
   "metadata": {},
   "outputs": [
    {
     "name": "stdout",
     "output_type": "stream",
     "text": [
      "SVC: 0.9736842105263158\n"
     ]
    }
   ],
   "source": [
    "print(f'SVC: {clf.score(x_test, y_test)}')"
   ]
  },
  {
   "cell_type": "code",
   "execution_count": 19,
   "id": "3cb1a468-d0fd-47b2-99ce-80ef852f8f2b",
   "metadata": {},
   "outputs": [
    {
     "name": "stdout",
     "output_type": "stream",
     "text": [
      "KNN: 0.9385964912280702\n"
     ]
    }
   ],
   "source": [
    "print(f'KNN: {clf2.score(x_test, y_test)}')"
   ]
  }
 ],
 "metadata": {
  "kernelspec": {
   "display_name": "Python 3 (ipykernel)",
   "language": "python",
   "name": "python3"
  },
  "language_info": {
   "codemirror_mode": {
    "name": "ipython",
    "version": 3
   },
   "file_extension": ".py",
   "mimetype": "text/x-python",
   "name": "python",
   "nbconvert_exporter": "python",
   "pygments_lexer": "ipython3",
   "version": "3.9.12"
  }
 },
 "nbformat": 4,
 "nbformat_minor": 5
}
